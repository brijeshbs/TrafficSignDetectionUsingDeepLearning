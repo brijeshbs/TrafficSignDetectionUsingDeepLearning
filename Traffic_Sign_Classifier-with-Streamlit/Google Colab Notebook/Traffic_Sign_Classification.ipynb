{
 "cells": [
  {
   "cell_type": "markdown",
   "metadata": {
    "colab_type": "text",
    "id": "c9JdYuaik6pc"
   },
   "source": [
    "# Import the necessary dependencies "
   ]
  },
  {
   "cell_type": "markdown",
   "metadata": {
    "colab_type": "text",
    "id": "V08WnIZG446_"
   },
   "source": [
    "### Setting TensorFlow 2.x as default version "
   ]
  },
  {
   "cell_type": "code",
   "execution_count": 1,
   "metadata": {
    "colab": {},
    "colab_type": "code",
    "id": "Lzzsza-ylniV"
   },
   "outputs": [],
   "source": [
    "try:\n",
    "    %tensorflow_version 2.x\n",
    "except Exception:\n",
    "    pass\n",
    "\n",
    "import tensorflow as tf"
   ]
  },
  {
   "cell_type": "markdown",
   "metadata": {
    "colab_type": "text",
    "id": "V8_o8BrZ5Hna"
   },
   "source": [
    "### Importing the Visualisation and Preprocessing packages"
   ]
  },
  {
   "cell_type": "code",
   "execution_count": 4,
   "metadata": {
    "colab": {},
    "colab_type": "code",
    "id": "PM-bq2prNTeq"
   },
   "outputs": [],
   "source": [
    "%matplotlib inline\n",
    "import matplotlib.pyplot as plt\n",
    "import matplotlib.image as mpimg\n",
    "\n",
    "import os\n",
    "import cv2\n",
    "\n",
    "import numpy as np\n",
    "import pandas as pd\n",
    "import pickle\n",
    "\n",
    "import random\n"
   ]
  },
  {
   "cell_type": "markdown",
   "metadata": {
    "colab_type": "text",
    "id": "4s24Ooy07DNB"
   },
   "source": [
    "### Importing the TensorFlow dependencies"
   ]
  },
  {
   "cell_type": "code",
   "execution_count": 5,
   "metadata": {
    "colab": {},
    "colab_type": "code",
    "id": "TvGg5k5oNWIT"
   },
   "outputs": [],
   "source": [
    "from tensorflow.keras.models import Sequential \n",
    "from tensorflow.keras.layers import Dense,Dropout,Flatten\n",
    "from tensorflow.keras.layers import BatchNormalization,Conv2D,MaxPooling2D\n",
    "from tensorflow.keras.utils import to_categorical \n",
    "from tensorflow.keras.optimizers import Adam\n",
    "from tensorflow.keras.callbacks import ModelCheckpoint\n",
    "from tensorflow.keras.regularizers import l2\n",
    "from tensorflow.keras.preprocessing.image import ImageDataGenerator "
   ]
  },
  {
   "cell_type": "markdown",
   "metadata": {
    "colab_type": "text",
    "id": "kT2r-te9kyDE"
   },
   "source": [
    "# Data loading and Visualisation "
   ]
  },
  {
   "cell_type": "markdown",
   "metadata": {
    "colab_type": "text",
    "id": "Rw3x3K3VlXbC"
   },
   "source": [
    "### Loading the data"
   ]
  },
  {
   "cell_type": "code",
   "execution_count": 10,
   "metadata": {
    "colab": {
     "base_uri": "https://localhost:8080/",
     "height": 72
    },
    "colab_type": "code",
    "id": "ratYoPLONYND",
    "outputId": "702bf1e5-b366-47f3-e52c-ecc379ae9ad0"
   },
   "outputs": [
    {
     "name": "stdout",
     "output_type": "stream",
     "text": [
      "(34799, 32, 32, 3)\n",
      "(4410, 32, 32, 3)\n",
      "(12630, 32, 32, 3)\n"
     ]
    }
   ],
   "source": [
    "#data = pd.read_csv(\"german-traffic-signs / signnames.csv\") \n",
    "  \n",
    "with open('C:/Users/Hp/Desktop/Traffic_Sign_Classifier/Traffic_Sign_Classifier-with-Streamlit/Traffic_sign_Dataset/train.p', 'rb') as f: \n",
    "    train_data = pickle.load(f) \n",
    "with open('C:/Users/Hp/Desktop/Traffic_Sign_Classifier/Traffic_Sign_Classifier-with-Streamlit/Traffic_sign_Dataset/valid.p', 'rb') as f: \n",
    "    val_data = pickle.load(f) \n",
    "with open('C:/Users/Hp/Desktop/Traffic_Sign_Classifier/Traffic_Sign_Classifier-with-Streamlit/Traffic_sign_Dataset/test.p', 'rb') as f: \n",
    "    test_data = pickle.load(f) \n",
    "\n",
    "# Extracting the labels from the dictionaries \n",
    "x_train, y_train = train_data['features'], train_data['labels'] \n",
    "x_val, y_val = val_data['features'], val_data['labels'] \n",
    "x_test, y_test = test_data['features'], test_data['labels'] \n",
    "\n",
    "print(x_train.shape) \n",
    "print(x_val.shape) \n",
    "print(x_test.shape) "
   ]
  },
  {
   "cell_type": "markdown",
   "metadata": {
    "colab_type": "text",
    "id": "N9Z2-7iellY6"
   },
   "source": [
    "### Visualising the Image data"
   ]
  },
  {
   "cell_type": "code",
   "execution_count": 11,
   "metadata": {
    "colab": {
     "base_uri": "https://localhost:8080/",
     "height": 592
    },
    "colab_type": "code",
    "id": "lBhvXPIgNYTB",
    "outputId": "a137c686-79be-4449-a9db-71f37000a1fe"
   },
   "outputs": [
    {
     "data": {
      "image/png": "[encoded data removed]",
      "text/plain": [
       "<Figure size 1080x720 with 1 Axes>"
      ]
     },
     "metadata": {
      "needs_background": "light"
     },
     "output_type": "display_data"
    }
   ],
   "source": [
    "import seaborn as sns\n",
    "import matplotlib.pyplot as plt\n",
    "\n",
    "plt.figure(figsize=(15,10))\n",
    "sns.countplot(x=\"labels\", data=train_data)\n",
    "sns.despine()"
   ]
  },
  {
   "cell_type": "markdown",
   "metadata": {
    "colab_type": "text",
    "id": "TfYNP0v54w4I"
   },
   "source": [
    "# Image Processing & Image Augmentation"
   ]
  },
  {
   "cell_type": "markdown",
   "metadata": {
    "colab_type": "text",
    "id": "AjGV9p6vl47S"
   },
   "source": [
    "### Pre-processing the images using OpenCV"
   ]
  },
  {
   "cell_type": "code",
   "execution_count": 12,
   "metadata": {
    "colab": {},
    "colab_type": "code",
    "id": "mHM2g4w9NcqR"
   },
   "outputs": [],
   "source": [
    "def preprocessing(img): \n",
    "    img = cv2.cvtColor(img, cv2.COLOR_BGR2GRAY) \n",
    "    img = cv2.equalizeHist(img) \n",
    "    img = img / 255\n",
    "    return img \n",
    "  \n",
    "x_train_final = np.array(list(map(preprocessing, x_train))) \n",
    "x_val_final = np.array(list(map(preprocessing, x_val))) \n",
    "x_test_final = np.array(list(map(preprocessing, x_test))) \n",
    "  \n",
    "x_train_final = x_train_final.reshape(34799, 32, 32, 1) \n",
    "x_val_final = x_val_final.reshape(4410, 32, 32, 1) \n",
    "x_test_final = x_test_final.reshape(12630, 32, 32, 1) \n"
   ]
  },
  {
   "cell_type": "markdown",
   "metadata": {
    "colab_type": "text",
    "id": "iPxFmAwhmAiB"
   },
   "source": [
    "### Image Augmentation using ImageDataGenerator"
   ]
  },
  {
   "cell_type": "code",
   "execution_count": 14,
   "metadata": {
    "colab": {
     "base_uri": "https://localhost:8080/",
     "height": 192
    },
    "colab_type": "code",
    "id": "FzFRYvCXNekZ",
    "outputId": "514926e7-6de1-4bbe-ab60-d33960620de8"
   },
   "outputs": [
    {
     "data": {
      "image/png": "[encoded data removed]",
      "text/plain": [
       "<Figure size 432x288 with 6 Axes>"
      ]
     },
     "metadata": {
      "needs_background": "light"
     },
     "output_type": "display_data"
    }
   ],
   "source": [
    "\n",
    "datagen = ImageDataGenerator(width_shift_range = 0.1,  \n",
    "                  height_shift_range = 0.1,  \n",
    "                  zoom_range = 0.2,  \n",
    "                  shear_range = 0.1,  \n",
    "                  rotation_range = 10) \n",
    "\n",
    "datagen.fit(x_train_final) \n",
    "\n",
    "#os.makedirs('C:/Users/Hp/Desktop/Traffic_Sign_Classifier/Traffic_Sign_Classifier-with-Streamlit/Traffic_sign_Dataset/images')\n",
    "\n",
    "for x_batch,y_batch in datagen.flow(x_train_final,y_train,batch_size=6,save_to_dir='C:/Users/Hp/Desktop/Traffic_Sign_Classifier/Traffic_Sign_Classifier-with-Streamlit/Traffic_sign_Dataset/images',save_prefix='img', save_format='jpg'):\n",
    "    for i in range(0, 6):\n",
    "        plt.subplot(330 + 1 + i)\n",
    "        plt.imshow(x_batch[i].reshape(32, 32), cmap=plt.get_cmap('gray'))\n",
    "\n",
    "    plt.show()\n",
    "    break\n",
    "\n",
    "y_train = to_categorical(y_train, 43) \n",
    "y_val = to_categorical(y_val, 43) \n",
    "y_test = to_categorical(y_test, 43) \n"
   ]
  },
  {
   "cell_type": "markdown",
   "metadata": {
    "colab_type": "text",
    "id": "2RzYgcur4qyK"
   },
   "source": [
    "# Model Building and Testing "
   ]
  },
  {
   "cell_type": "markdown",
   "metadata": {
    "colab_type": "text",
    "id": "DYp8FoCtmRO7"
   },
   "source": [
    "### Implementing the CNN Model "
   ]
  },
  {
   "cell_type": "code",
   "execution_count": 15,
   "metadata": {
    "colab": {},
    "colab_type": "code",
    "id": "TAmuD6XvNn9S"
   },
   "outputs": [],
   "source": [
    "def build_model(hp):\n",
    "    model = Sequential()\n",
    "\n",
    "    # Layer 1 \n",
    "    model.add(Conv2D(filters=hp.Int('CONV_1_FILTER',min_value=32, max_value=64),\n",
    "                     kernel_size=hp.Choice('KERNEL_1_FILTER', values=[3,5]),\n",
    "                     activation='relu',\n",
    "                     input_shape=(32,32,1), \n",
    "                     padding='same',\n",
    "                     kernel_regularizer = l2(0.0005)\n",
    "                     ))\n",
    "    model.add(MaxPooling2D(pool_size=(2, 2)))\n",
    "    model.add(Dropout(hp.Float('DROPOUT_1', min_value=0.0,max_value=0.5,default=0.25,step=0.05)))\n",
    "\n",
    "    \n",
    "    # Layer 2 \n",
    "    model.add(Conv2D(filters=hp.Int('CONV_2_FILTER',min_value=32, max_value=128),\n",
    "                     kernel_size=hp.Choice('KERNEL_2_FILTER', values=[3,5]),\n",
    "                     activation='relu',\n",
    "                     padding='same',\n",
    "                     kernel_regularizer = l2(0.0005)\n",
    "                     ))\n",
    "    model.add(MaxPooling2D(pool_size=(2, 2)))\n",
    "    model.add(Dropout(hp.Float('DROPOUT_2', min_value=0.0,max_value=0.5,default=0.25,step=0.05)))\n",
    "\n",
    "\n",
    "    # Layer 3\n",
    "    model.add(Conv2D(filters=hp.Int('CONV_3_FILTER',min_value=32, max_value=128),\n",
    "                     kernel_size=hp.Choice('KERNEL_3_FILTER', values=[3,5]),\n",
    "                     activation='relu',\n",
    "                     padding='same',\n",
    "                     kernel_regularizer = l2(0.0005)\n",
    "                     ))\n",
    "    model.add(MaxPooling2D(pool_size=(2, 2)))\n",
    "    model.add(Dropout(hp.Float('DROPOUT_3', min_value=0.0,max_value=0.5,default=0.25,step=0.05)))\n",
    "\n",
    "    \n",
    "    model.add(Flatten())\n",
    "\n",
    "    \n",
    "    model.add(Dense(hp.Int('DENSE_1_LAYER', \n",
    "                           min_value=32, \n",
    "                           max_value=512),\n",
    "                    \n",
    "                    activation = hp.Choice(\n",
    "                    'dense_activation',\n",
    "                    values=['relu', 'tanh', 'sigmoid'],\n",
    "                    default='relu')\n",
    "    ))\n",
    "    model.add(Dropout(hp.Float('DROPOUT_2', min_value=0.0,max_value=0.5,default=0.25,step=0.05)))\n",
    "\n",
    "    model.add(Dense(43, activation='softmax'))\n",
    "\n",
    "    # Learning Rate set between 0.0001 to 0.01\n",
    "    model.compile(Adam(hp.Float(\n",
    "                    'learning_rate',\n",
    "                    min_value=1e-4,\n",
    "                    max_value=1e-2,\n",
    "                    sampling='LOG')),\n",
    "                    loss='categorical_crossentropy', metrics=['accuracy'])\n",
    "    \n",
    "    return model\n",
    "    "
   ]
  },
  {
   "cell_type": "markdown",
   "metadata": {
    "colab_type": "text",
    "id": "_iAy7irdmXnE"
   },
   "source": [
    "### Install Kerastuner"
   ]
  },
  {
   "cell_type": "code",
   "execution_count": 16,
   "metadata": {
    "colab": {
     "base_uri": "https://localhost:8080/",
     "height": 313
    },
    "colab_type": "code",
    "id": "0NOnz_nWej7m",
    "outputId": "c33dae2f-909d-422d-e486-354a0b1e4bd3"
   },
   "outputs": [
    {
     "name": "stdout",
     "output_type": "stream",
     "text": [
      "Collecting keras-tuner\n",
      "  Downloading keras_tuner-1.3.5-py3-none-any.whl (176 kB)\n",
      "Collecting kt-legacy\n",
      "  Downloading kt_legacy-1.0.5-py3-none-any.whl (9.6 kB)\n",
      "Requirement already satisfied: requests in c:\\users\\hp\\anaconda3\\lib\\site-packages (from keras-tuner) (2.26.0)\n",
      "Requirement already satisfied: packaging in c:\\users\\hp\\anaconda3\\lib\\site-packages (from keras-tuner) (21.0)\n",
      "Requirement already satisfied: pyparsing>=2.0.2 in c:\\users\\hp\\anaconda3\\lib\\site-packages (from packaging->keras-tuner) (3.0.4)\n",
      "Requirement already satisfied: urllib3<1.27,>=1.21.1 in c:\\users\\hp\\anaconda3\\lib\\site-packages (from requests->keras-tuner) (1.26.7)\n",
      "Requirement already satisfied: certifi>=2017.4.17 in c:\\users\\hp\\anaconda3\\lib\\site-packages (from requests->keras-tuner) (2021.10.8)\n",
      "Requirement already satisfied: charset-normalizer~=2.0.0 in c:\\users\\hp\\anaconda3\\lib\\site-packages (from requests->keras-tuner) (2.0.4)\n",
      "Requirement already satisfied: idna<4,>=2.5 in c:\\users\\hp\\anaconda3\\lib\\site-packages (from requests->keras-tuner) (3.2)\n",
      "Installing collected packages: kt-legacy, keras-tuner\n",
      "Successfully installed keras-tuner-1.3.5 kt-legacy-1.0.5\n"
     ]
    }
   ],
   "source": [
    "!pip install keras-tuner"
   ]
  },
  {
   "cell_type": "markdown",
   "metadata": {
    "colab_type": "text",
    "id": "Yt4Sbm9QmbzE"
   },
   "source": [
    "### Use RandomSearch using keraatuner to find the best hyperparameters"
   ]
  },
  {
   "cell_type": "code",
   "execution_count": 19,
   "metadata": {
    "colab": {},
    "colab_type": "code",
    "id": "sf0qjmbaec12"
   },
   "outputs": [],
   "source": [
    "from kerastuner import RandomSearch"
   ]
  },
  {
   "cell_type": "code",
   "execution_count": 20,
   "metadata": {
    "colab": {
     "base_uri": "https://localhost:8080/",
     "height": 74
    },
    "colab_type": "code",
    "id": "gsRJmmZheopH",
    "outputId": "196fd8a5-50df-4640-e1fa-449f3cf4a31c"
   },
   "outputs": [
    {
     "name": "stdout",
     "output_type": "stream",
     "text": [
      "INFO:tensorflow:Reloading Tuner from C:/Users/Hp/Desktop/Traffic_Sign_Classifier/Traffic_Sign_Classifier-with-Streamlit/Traffic_sign_Dataset/Traffic_Sign_Classifier\\tuner0.json\n"
     ]
    }
   ],
   "source": [
    "tuner = RandomSearch(build_model, objective='val_accuracy',\n",
    "                     max_trials = 10, \n",
    "                     directory='C:/Users/Hp/Desktop/Traffic_Sign_Classifier/Traffic_Sign_Classifier-with-Streamlit/Traffic_sign_Dataset/',\n",
    "                     project_name=\"Traffic_Sign_Classifier\")"
   ]
  },
  {
   "cell_type": "code",
   "execution_count": 21,
   "metadata": {
    "colab": {
     "base_uri": "https://localhost:8080/",
     "height": 1000
    },
    "colab_type": "code",
    "id": "vyB3qo7Nh15E",
    "outputId": "11eeefa3-c1b8-4d7e-a0ef-f89990956b16"
   },
   "outputs": [
    {
     "name": "stdout",
     "output_type": "stream",
     "text": [
      "Search space summary\n",
      "Default search space size: 12\n",
      "CONV_1_FILTER (Int)\n",
      "{'default': None, 'conditions': [], 'min_value': 32, 'max_value': 64, 'step': 1, 'sampling': 'linear'}\n",
      "KERNEL_1_FILTER (Choice)\n",
      "{'default': 3, 'conditions': [], 'values': [3, 5], 'ordered': True}\n",
      "DROPOUT_1 (Float)\n",
      "{'default': 0.25, 'conditions': [], 'min_value': 0.0, 'max_value': 0.5, 'step': 0.05, 'sampling': 'linear'}\n",
      "CONV_2_FILTER (Int)\n",
      "{'default': None, 'conditions': [], 'min_value': 32, 'max_value': 128, 'step': 1, 'sampling': 'linear'}\n",
      "KERNEL_2_FILTER (Choice)\n",
      "{'default': 3, 'conditions': [], 'values': [3, 5], 'ordered': True}\n",
      "DROPOUT_2 (Float)\n",
      "{'default': 0.25, 'conditions': [], 'min_value': 0.0, 'max_value': 0.5, 'step': 0.05, 'sampling': 'linear'}\n",
      "CONV_3_FILTER (Int)\n",
      "{'default': None, 'conditions': [], 'min_value': 32, 'max_value': 128, 'step': 1, 'sampling': 'linear'}\n",
      "KERNEL_3_FILTER (Choice)\n",
      "{'default': 3, 'conditions': [], 'values': [3, 5], 'ordered': True}\n",
      "DROPOUT_3 (Float)\n",
      "{'default': 0.25, 'conditions': [], 'min_value': 0.0, 'max_value': 0.5, 'step': 0.05, 'sampling': 'linear'}\n",
      "DENSE_1_LAYER (Int)\n",
      "{'default': None, 'conditions': [], 'min_value': 32, 'max_value': 512, 'step': 1, 'sampling': 'linear'}\n",
      "dense_activation (Choice)\n",
      "{'default': 'relu', 'conditions': [], 'values': ['relu', 'tanh', 'sigmoid'], 'ordered': False}\n",
      "learning_rate (Float)\n",
      "{'default': 0.0001, 'conditions': [], 'min_value': 0.0001, 'max_value': 0.01, 'step': None, 'sampling': 'log'}\n"
     ]
    }
   ],
   "source": [
    "tuner.search_space_summary()"
   ]
  },
  {
   "cell_type": "code",
   "execution_count": 22,
   "metadata": {
    "colab": {
     "base_uri": "https://localhost:8080/",
     "height": 35
    },
    "colab_type": "code",
    "id": "3Jo_89zTfyWK",
    "outputId": "c5555bec-56bf-4183-887d-800638f8b6c5"
   },
   "outputs": [
    {
     "name": "stdout",
     "output_type": "stream",
     "text": [
      "INFO:tensorflow:Oracle triggered exit\n"
     ]
    }
   ],
   "source": [
    "tuner.search(x_train_final,y_train,epochs=10, validation_data=(x_val_final,y_val))"
   ]
  },
  {
   "cell_type": "markdown",
   "metadata": {
    "colab_type": "text",
    "id": "YXaYxv7ImoB0"
   },
   "source": [
    "### Get the best model"
   ]
  },
  {
   "cell_type": "code",
   "execution_count": 23,
   "metadata": {
    "colab": {},
    "colab_type": "code",
    "id": "TTZsL2SoiPm4"
   },
   "outputs": [],
   "source": [
    "final_model = tuner.get_best_models(num_models=1)[0]"
   ]
  },
  {
   "cell_type": "code",
   "execution_count": 24,
   "metadata": {
    "colab": {
     "base_uri": "https://localhost:8080/",
     "height": 641
    },
    "colab_type": "code",
    "id": "x--itczLkUzm",
    "outputId": "1544c40a-20d0-4827-e3c8-4104b73dc12e"
   },
   "outputs": [
    {
     "name": "stdout",
     "output_type": "stream",
     "text": [
      "Model: \"sequential\"\n",
      "_________________________________________________________________\n",
      "Layer (type)                 Output Shape              Param #   \n",
      "=================================================================\n",
      "conv2d (Conv2D)              (None, 32, 32, 40)        400       \n",
      "_________________________________________________________________\n",
      "max_pooling2d (MaxPooling2D) (None, 16, 16, 40)        0         \n",
      "_________________________________________________________________\n",
      "dropout (Dropout)            (None, 16, 16, 40)        0         \n",
      "_________________________________________________________________\n",
      "conv2d_1 (Conv2D)            (None, 16, 16, 41)        14801     \n",
      "_________________________________________________________________\n",
      "max_pooling2d_1 (MaxPooling2 (None, 8, 8, 41)          0         \n",
      "_________________________________________________________________\n",
      "dropout_1 (Dropout)          (None, 8, 8, 41)          0         \n",
      "_________________________________________________________________\n",
      "conv2d_2 (Conv2D)            (None, 8, 8, 102)         104652    \n",
      "_________________________________________________________________\n",
      "max_pooling2d_2 (MaxPooling2 (None, 4, 4, 102)         0         \n",
      "_________________________________________________________________\n",
      "dropout_2 (Dropout)          (None, 4, 4, 102)         0         \n",
      "_________________________________________________________________\n",
      "flatten (Flatten)            (None, 1632)              0         \n",
      "_________________________________________________________________\n",
      "dense (Dense)                (None, 288)               470304    \n",
      "_________________________________________________________________\n",
      "dropout_3 (Dropout)          (None, 288)               0         \n",
      "_________________________________________________________________\n",
      "dense_1 (Dense)              (None, 43)                12427     \n",
      "=================================================================\n",
      "Total params: 602,584\n",
      "Trainable params: 602,584\n",
      "Non-trainable params: 0\n",
      "_________________________________________________________________\n"
     ]
    }
   ],
   "source": [
    "final_model.summary()"
   ]
  },
  {
   "cell_type": "markdown",
   "metadata": {
    "colab_type": "text",
    "id": "E4GNcwTamsYS"
   },
   "source": [
    "### Creating a Model Checkpoint"
   ]
  },
  {
   "cell_type": "code",
   "execution_count": 25,
   "metadata": {
    "colab": {},
    "colab_type": "code",
    "id": "lLQ5vs52k44x"
   },
   "outputs": [],
   "source": [
    "filepath=\"C:/Users/Hp/Desktop/Traffic_Sign_Classifier/Traffic_Sign_Classifier-with-Streamlit/Traffic_sign_Dataset/Traffic_Sign_Classifier_CNN.hdf5\"\n",
    "checkpoint_conv = ModelCheckpoint(filepath, monitor='val_accuracy', verbose=1, save_best_only=True, mode='max')\n",
    "callbacks_list_conv = [checkpoint_conv]"
   ]
  },
  {
   "cell_type": "markdown",
   "metadata": {
    "colab_type": "text",
    "id": "lQeDIaB3m_Ld"
   },
   "source": [
    "### Fit the model"
   ]
  },
  {
   "cell_type": "code",
   "execution_count": 26,
   "metadata": {
    "colab": {},
    "colab_type": "code",
    "id": "PI3l1opFHPCG"
   },
   "outputs": [],
   "source": [
    "BATCH_SIZE = 100\n",
    "EPOCHS = 40"
   ]
  },
  {
   "cell_type": "code",
   "execution_count": 27,
   "metadata": {
    "colab": {
     "base_uri": "https://localhost:8080/",
     "height": 1000
    },
    "colab_type": "code",
    "id": "FVrscWrJkZfp",
    "outputId": "5becc57e-f8bb-4b26-adec-fee393a45b41"
   },
   "outputs": [
    {
     "name": "stdout",
     "output_type": "stream",
     "text": [
      "Epoch 1/40\n",
      "348/348 [==============================] - 84s 234ms/step - loss: 0.8683 - accuracy: 0.7665 - val_loss: 0.3029 - val_accuracy: 0.9429\n",
      "\n",
      "Epoch 00001: val_accuracy improved from -inf to 0.94286, saving model to C:/Users/Hp/Desktop/Traffic_Sign_Classifier/Traffic_Sign_Classifier-with-Streamlit/Traffic_sign_Dataset\\Traffic_Sign_Classifier_CNN.hdf5\n",
      "Epoch 2/40\n",
      "348/348 [==============================] - 80s 229ms/step - loss: 0.6387 - accuracy: 0.8328 - val_loss: 0.2793 - val_accuracy: 0.9449\n",
      "\n",
      "Epoch 00002: val_accuracy improved from 0.94286 to 0.94490, saving model to C:/Users/Hp/Desktop/Traffic_Sign_Classifier/Traffic_Sign_Classifier-with-Streamlit/Traffic_sign_Dataset\\Traffic_Sign_Classifier_CNN.hdf5\n",
      "Epoch 3/40\n",
      "348/348 [==============================] - 80s 230ms/step - loss: 0.5555 - accuracy: 0.8575 - val_loss: 0.2723 - val_accuracy: 0.9481\n",
      "\n",
      "Epoch 00003: val_accuracy improved from 0.94490 to 0.94807, saving model to C:/Users/Hp/Desktop/Traffic_Sign_Classifier/Traffic_Sign_Classifier-with-Streamlit/Traffic_sign_Dataset\\Traffic_Sign_Classifier_CNN.hdf5\n",
      "Epoch 4/40\n",
      "348/348 [==============================] - 83s 237ms/step - loss: 0.5019 - accuracy: 0.8771 - val_loss: 0.2684 - val_accuracy: 0.9531\n",
      "\n",
      "Epoch 00004: val_accuracy improved from 0.94807 to 0.95306, saving model to C:/Users/Hp/Desktop/Traffic_Sign_Classifier/Traffic_Sign_Classifier-with-Streamlit/Traffic_sign_Dataset\\Traffic_Sign_Classifier_CNN.hdf5\n",
      "Epoch 5/40\n",
      "348/348 [==============================] - 58s 167ms/step - loss: 0.4812 - accuracy: 0.8816 - val_loss: 0.2603 - val_accuracy: 0.9549\n",
      "\n",
      "Epoch 00005: val_accuracy improved from 0.95306 to 0.95488, saving model to C:/Users/Hp/Desktop/Traffic_Sign_Classifier/Traffic_Sign_Classifier-with-Streamlit/Traffic_sign_Dataset\\Traffic_Sign_Classifier_CNN.hdf5\n",
      "Epoch 6/40\n",
      "348/348 [==============================] - 59s 170ms/step - loss: 0.4449 - accuracy: 0.8919 - val_loss: 0.2604 - val_accuracy: 0.9549\n",
      "\n",
      "Epoch 00006: val_accuracy did not improve from 0.95488\n",
      "Epoch 7/40\n",
      "348/348 [==============================] - 56s 162ms/step - loss: 0.4385 - accuracy: 0.8968 - val_loss: 0.2311 - val_accuracy: 0.9646\n",
      "\n",
      "Epoch 00007: val_accuracy improved from 0.95488 to 0.96463, saving model to C:/Users/Hp/Desktop/Traffic_Sign_Classifier/Traffic_Sign_Classifier-with-Streamlit/Traffic_sign_Dataset\\Traffic_Sign_Classifier_CNN.hdf5\n",
      "Epoch 8/40\n",
      "348/348 [==============================] - 53s 153ms/step - loss: 0.4214 - accuracy: 0.9019 - val_loss: 0.2689 - val_accuracy: 0.9524\n",
      "\n",
      "Epoch 00008: val_accuracy did not improve from 0.96463\n",
      "Epoch 9/40\n",
      "348/348 [==============================] - 53s 153ms/step - loss: 0.4036 - accuracy: 0.9056 - val_loss: 0.2393 - val_accuracy: 0.9585\n",
      "\n",
      "Epoch 00009: val_accuracy did not improve from 0.96463\n",
      "Epoch 10/40\n",
      "348/348 [==============================] - 55s 156ms/step - loss: 0.3912 - accuracy: 0.9092 - val_loss: 0.2590 - val_accuracy: 0.9510\n",
      "\n",
      "Epoch 00010: val_accuracy did not improve from 0.96463\n",
      "Epoch 11/40\n",
      "348/348 [==============================] - 62s 179ms/step - loss: 0.3849 - accuracy: 0.9118 - val_loss: 0.2295 - val_accuracy: 0.9633\n",
      "\n",
      "Epoch 00011: val_accuracy did not improve from 0.96463\n",
      "Epoch 12/40\n",
      "348/348 [==============================] - 58s 167ms/step - loss: 0.3714 - accuracy: 0.9172 - val_loss: 0.2347 - val_accuracy: 0.9605\n",
      "\n",
      "Epoch 00012: val_accuracy did not improve from 0.96463\n",
      "Epoch 13/40\n",
      "348/348 [==============================] - 61s 174ms/step - loss: 0.3730 - accuracy: 0.9148 - val_loss: 0.2923 - val_accuracy: 0.9397\n",
      "\n",
      "Epoch 00013: val_accuracy did not improve from 0.96463\n",
      "Epoch 14/40\n",
      "348/348 [==============================] - 64s 183ms/step - loss: 0.3673 - accuracy: 0.9179 - val_loss: 0.2167 - val_accuracy: 0.9694\n",
      "\n",
      "Epoch 00014: val_accuracy improved from 0.96463 to 0.96939, saving model to C:/Users/Hp/Desktop/Traffic_Sign_Classifier/Traffic_Sign_Classifier-with-Streamlit/Traffic_sign_Dataset\\Traffic_Sign_Classifier_CNN.hdf5\n",
      "Epoch 15/40\n",
      "348/348 [==============================] - 65s 186ms/step - loss: 0.3560 - accuracy: 0.9208 - val_loss: 0.2244 - val_accuracy: 0.9630\n",
      "\n",
      "Epoch 00015: val_accuracy did not improve from 0.96939\n",
      "Epoch 16/40\n",
      "348/348 [==============================] - 61s 175ms/step - loss: 0.3541 - accuracy: 0.9198 - val_loss: 0.2298 - val_accuracy: 0.9651\n",
      "\n",
      "Epoch 00016: val_accuracy did not improve from 0.96939\n",
      "Epoch 17/40\n",
      "348/348 [==============================] - 61s 175ms/step - loss: 0.3474 - accuracy: 0.9229 - val_loss: 0.2212 - val_accuracy: 0.9651\n",
      "\n",
      "Epoch 00017: val_accuracy did not improve from 0.96939\n",
      "Epoch 18/40\n",
      "348/348 [==============================] - 62s 179ms/step - loss: 0.3364 - accuracy: 0.9275 - val_loss: 0.2288 - val_accuracy: 0.9569\n",
      "\n",
      "Epoch 00018: val_accuracy did not improve from 0.96939\n",
      "Epoch 19/40\n",
      "348/348 [==============================] - 64s 184ms/step - loss: 0.3417 - accuracy: 0.9256 - val_loss: 0.2198 - val_accuracy: 0.9671\n",
      "\n",
      "Epoch 00019: val_accuracy did not improve from 0.96939\n",
      "Epoch 20/40\n",
      "348/348 [==============================] - 63s 180ms/step - loss: 0.3354 - accuracy: 0.9273 - val_loss: 0.2181 - val_accuracy: 0.9685\n",
      "\n",
      "Epoch 00020: val_accuracy did not improve from 0.96939\n",
      "Epoch 21/40\n",
      "348/348 [==============================] - 60s 173ms/step - loss: 0.3235 - accuracy: 0.9309 - val_loss: 0.2141 - val_accuracy: 0.9687\n",
      "\n",
      "Epoch 00021: val_accuracy did not improve from 0.96939\n",
      "Epoch 22/40\n",
      "348/348 [==============================] - 70s 201ms/step - loss: 0.3269 - accuracy: 0.9288 - val_loss: 0.2239 - val_accuracy: 0.9621\n",
      "\n",
      "Epoch 00022: val_accuracy did not improve from 0.96939\n",
      "Epoch 23/40\n",
      "348/348 [==============================] - 69s 198ms/step - loss: 0.3266 - accuracy: 0.9291 - val_loss: 0.2250 - val_accuracy: 0.9592\n",
      "\n",
      "Epoch 00023: val_accuracy did not improve from 0.96939\n",
      "Epoch 24/40\n",
      "348/348 [==============================] - 82s 236ms/step - loss: 0.3113 - accuracy: 0.9340 - val_loss: 0.2144 - val_accuracy: 0.9642\n",
      "\n",
      "Epoch 00024: val_accuracy did not improve from 0.96939\n",
      "Epoch 25/40\n",
      "348/348 [==============================] - 81s 233ms/step - loss: 0.3111 - accuracy: 0.9329 - val_loss: 0.2112 - val_accuracy: 0.9701\n",
      "\n",
      "Epoch 00025: val_accuracy improved from 0.96939 to 0.97007, saving model to C:/Users/Hp/Desktop/Traffic_Sign_Classifier/Traffic_Sign_Classifier-with-Streamlit/Traffic_sign_Dataset\\Traffic_Sign_Classifier_CNN.hdf5\n",
      "Epoch 26/40\n",
      "348/348 [==============================] - 90s 259ms/step - loss: 0.3165 - accuracy: 0.9336 - val_loss: 0.2220 - val_accuracy: 0.9649\n",
      "\n",
      "Epoch 00026: val_accuracy did not improve from 0.97007\n",
      "Epoch 27/40\n",
      "348/348 [==============================] - 70s 202ms/step - loss: 0.3080 - accuracy: 0.9347 - val_loss: 0.2131 - val_accuracy: 0.9621\n",
      "\n",
      "Epoch 00027: val_accuracy did not improve from 0.97007\n",
      "Epoch 28/40\n",
      "348/348 [==============================] - 72s 206ms/step - loss: 0.3032 - accuracy: 0.9361 - val_loss: 0.2072 - val_accuracy: 0.9676\n",
      "\n",
      "Epoch 00028: val_accuracy did not improve from 0.97007\n",
      "Epoch 29/40\n",
      "348/348 [==============================] - 63s 182ms/step - loss: 0.3058 - accuracy: 0.9346 - val_loss: 0.2213 - val_accuracy: 0.9671\n",
      "\n",
      "Epoch 00029: val_accuracy did not improve from 0.97007\n",
      "Epoch 30/40\n",
      "348/348 [==============================] - 70s 200ms/step - loss: 0.3033 - accuracy: 0.9359 - val_loss: 0.2108 - val_accuracy: 0.9653\n",
      "\n",
      "Epoch 00030: val_accuracy did not improve from 0.97007\n",
      "Epoch 31/40\n",
      "348/348 [==============================] - 79s 227ms/step - loss: 0.3043 - accuracy: 0.9368 - val_loss: 0.2019 - val_accuracy: 0.9680\n",
      "\n",
      "Epoch 00031: val_accuracy did not improve from 0.97007\n",
      "Epoch 32/40\n",
      "348/348 [==============================] - 65s 187ms/step - loss: 0.3038 - accuracy: 0.9335 - val_loss: 0.2022 - val_accuracy: 0.9701\n",
      "\n",
      "Epoch 00032: val_accuracy did not improve from 0.97007\n",
      "Epoch 33/40\n",
      "348/348 [==============================] - 61s 176ms/step - loss: 0.3017 - accuracy: 0.9358 - val_loss: 0.2167 - val_accuracy: 0.9626\n",
      "\n",
      "Epoch 00033: val_accuracy did not improve from 0.97007\n",
      "Epoch 34/40\n",
      "348/348 [==============================] - 68s 197ms/step - loss: 0.2988 - accuracy: 0.9370 - val_loss: 0.2019 - val_accuracy: 0.9685\n",
      "\n",
      "Epoch 00034: val_accuracy did not improve from 0.97007\n",
      "Epoch 35/40\n"
     ]
    },
    {
     "name": "stdout",
     "output_type": "stream",
     "text": [
      "348/348 [==============================] - 90s 260ms/step - loss: 0.2925 - accuracy: 0.9387 - val_loss: 0.2354 - val_accuracy: 0.9544\n",
      "\n",
      "Epoch 00035: val_accuracy did not improve from 0.97007\n",
      "Epoch 36/40\n",
      "348/348 [==============================] - 90s 258ms/step - loss: 0.2968 - accuracy: 0.9387 - val_loss: 0.2404 - val_accuracy: 0.9587\n",
      "\n",
      "Epoch 00036: val_accuracy did not improve from 0.97007\n",
      "Epoch 37/40\n",
      "348/348 [==============================] - 80s 230ms/step - loss: 0.2899 - accuracy: 0.9402 - val_loss: 0.2283 - val_accuracy: 0.9603\n",
      "\n",
      "Epoch 00037: val_accuracy did not improve from 0.97007\n",
      "Epoch 38/40\n",
      "348/348 [==============================] - 75s 215ms/step - loss: 0.2897 - accuracy: 0.9419 - val_loss: 0.2203 - val_accuracy: 0.9673\n",
      "\n",
      "Epoch 00038: val_accuracy did not improve from 0.97007\n",
      "Epoch 39/40\n",
      "348/348 [==============================] - 70s 200ms/step - loss: 0.2856 - accuracy: 0.9419 - val_loss: 0.2170 - val_accuracy: 0.9624\n",
      "\n",
      "Epoch 00039: val_accuracy did not improve from 0.97007\n",
      "Epoch 40/40\n",
      "348/348 [==============================] - 68s 195ms/step - loss: 0.2787 - accuracy: 0.9428 - val_loss: 0.2377 - val_accuracy: 0.9553\n",
      "\n",
      "Epoch 00040: val_accuracy did not improve from 0.97007\n"
     ]
    }
   ],
   "source": [
    "history = final_model.fit(\n",
    "                            datagen.flow(x_train_final, y_train, batch_size=BATCH_SIZE), \n",
    "                            steps_per_epoch = int(np.ceil(len(x_train_final)/float(BATCH_SIZE))), \n",
    "                            epochs = EPOCHS, \n",
    "                            validation_data =(x_val_final, y_val),\n",
    "                            shuffle = True,\n",
    "                            callbacks=callbacks_list_conv\n",
    "                          )\n"
   ]
  },
  {
   "cell_type": "code",
   "execution_count": 28,
   "metadata": {
    "colab": {
     "base_uri": "https://localhost:8080/",
     "height": 499
    },
    "colab_type": "code",
    "id": "gHNIDh_ScyAH",
    "outputId": "76ce4903-437f-4e98-c654-e6a57cc6539f"
   },
   "outputs": [
    {
     "data": {
      "image/png": "[encoded data removed]",
      "text/plain": [
       "<Figure size 576x576 with 2 Axes>"
      ]
     },
     "metadata": {
      "needs_background": "light"
     },
     "output_type": "display_data"
    }
   ],
   "source": [
    "acc = history.history['accuracy']\n",
    "val_acc = history.history['val_accuracy']\n",
    "\n",
    "loss = history.history['loss']\n",
    "val_loss = history.history['val_loss']\n",
    "\n",
    "epochs_range = range(EPOCHS)\n",
    "\n",
    "plt.figure(figsize=(8, 8))\n",
    "plt.subplot(1, 2, 1)\n",
    "plt.plot(epochs_range, acc, label='Training Accuracy')\n",
    "plt.plot(epochs_range, val_acc, label='Validation Accuracy')\n",
    "plt.legend(loc='lower right')\n",
    "plt.title('Training and Validation Accuracy')\n",
    "\n",
    "plt.subplot(1, 2, 2)\n",
    "plt.plot(epochs_range, loss, label='Training Loss')\n",
    "plt.plot(epochs_range, val_loss, label='Validation Loss')\n",
    "plt.legend(loc='upper right')\n",
    "plt.title('Training and Validation Loss')\n",
    "plt.show()"
   ]
  },
  {
   "cell_type": "markdown",
   "metadata": {
    "colab_type": "text",
    "id": "--iQkw_ynDl5"
   },
   "source": [
    "### Load the model's weights and biases for evaluation on Test set"
   ]
  },
  {
   "cell_type": "code",
   "execution_count": 29,
   "metadata": {
    "colab": {},
    "colab_type": "code",
    "id": "BMMCe9iWmva5"
   },
   "outputs": [],
   "source": [
    "final_model.load_weights(\"C:/Users/Hp/Desktop/Traffic_Sign_Classifier/Traffic_Sign_Classifier-with-Streamlit/Traffic_sign_Dataset/Traffic_Sign_Classifier_CNN.hdf5\")\n",
    "final_model.compile(loss='categorical_crossentropy', optimizer='adam', metrics=['accuracy'])"
   ]
  },
  {
   "cell_type": "code",
   "execution_count": 30,
   "metadata": {
    "colab": {
     "base_uri": "https://localhost:8080/",
     "height": 90
    },
    "colab_type": "code",
    "id": "kZ1wzyHCm00z",
    "outputId": "6001978d-cc30-4e02-ffb7-5310d09375e4"
   },
   "outputs": [
    {
     "name": "stdout",
     "output_type": "stream",
     "text": [
      "Results on the test data\n",
      " \n",
      "loss- 0.32\n",
      "accuracy- 0.94\n"
     ]
    }
   ],
   "source": [
    "Pred_conv = final_model.evaluate(x_test_final, y_test, verbose=0)\n",
    "print(\"Results on the test data\")\n",
    "print(\" \")\n",
    "print(\"%s- %.2f\" % (final_model.metrics_names[0], Pred_conv[0]))\n",
    "print(\"%s- %.2f\" % (final_model.metrics_names[1], Pred_conv[1]))"
   ]
  },
  {
   "cell_type": "markdown",
   "metadata": {
    "colab_type": "text",
    "id": "vel7XAkunRuw"
   },
   "source": [
    "### Testing the model on the test dataset"
   ]
  },
  {
   "cell_type": "code",
   "execution_count": 31,
   "metadata": {
    "colab": {
     "base_uri": "https://localhost:8080/",
     "height": 505
    },
    "colab_type": "code",
    "id": "lfqA1LFem4z5",
    "outputId": "97859b01-960f-44b9-bde5-665e8706c7e1"
   },
   "outputs": [
    {
     "name": "stdout",
     "output_type": "stream",
     "text": [
      "Predicted sign: [[4.0628718e-09 1.1376587e-05 2.9835324e-08 1.5260440e-08 1.3443575e-12\n",
      "  4.4860885e-06 9.9998379e-01 1.8541707e-09 4.2306059e-12 8.7551243e-14\n",
      "  3.7222714e-11 2.2333555e-09 6.0753399e-12 5.7752999e-12 1.2898732e-12\n",
      "  4.5159562e-15 7.1424651e-11 9.1279775e-16 2.8872466e-12 1.4245691e-15\n",
      "  1.4459567e-12 5.5607855e-11 5.7841676e-18 7.3222434e-14 1.3224867e-14\n",
      "  4.4598106e-12 1.2106407e-15 8.7812223e-12 6.0129068e-11 5.9523317e-13\n",
      "  1.8348074e-09 2.8304425e-11 6.0471670e-08 8.9709126e-12 2.0767517e-12\n",
      "  3.4259446e-12 3.5202639e-12 1.4041992e-11 1.1364387e-09 2.0582765e-12\n",
      "  2.4488817e-10 1.0515231e-09 2.8204138e-07]]\n",
      "---------------------------------------------------------------------------\n",
      "Predicted Sign[0]\n"
     ]
    },
    {
     "name": "stderr",
     "output_type": "stream",
     "text": [
      "C:\\Users\\Hp\\anaconda3\\lib\\site-packages\\tensorflow\\python\\keras\\engine\\sequential.py:455: UserWarning: `model.predict_classes()` is deprecated and will be removed after 2021-01-01. Please use instead:* `np.argmax(model.predict(x), axis=-1)`,   if your model does multi-class classification   (e.g. if it uses a `softmax` last-layer activation).* `(model.predict(x) > 0.5).astype(\"int32\")`,   if your model does binary classification   (e.g. if it uses a `sigmoid` last-layer activation).\n",
      "  warnings.warn('`model.predict_classes()` is deprecated and '\n"
     ]
    },
    {
     "data": {
      "image/png": "[encoded data removed]",
      "text/plain": [
       "<Figure size 432x288 with 1 Axes>"
      ]
     },
     "metadata": {
      "needs_background": "light"
     },
     "output_type": "display_data"
    }
   ],
   "source": [
    "\n",
    "plt.imshow(x_test[990]) \n",
    "print(\"Predicted sign: \"+ str( \n",
    "        final_model.predict(x_test_final[1700].reshape(1, 32, 32, 1))))\n",
    "\n",
    "print('---------------------------------------------------------------------------')\n",
    "\n",
    "print(\"Predicted Sign\" + str(final_model.predict_classes(x_test_final[990].reshape(1, 32, 32, 1))))\n"
   ]
  },
  {
   "cell_type": "markdown",
   "metadata": {
    "colab_type": "text",
    "id": "mrbxLqyovv0f"
   },
   "source": [
    "### Save the model"
   ]
  },
  {
   "cell_type": "code",
   "execution_count": 32,
   "metadata": {
    "colab": {},
    "colab_type": "code",
    "id": "ygfiDJ0pnVxv"
   },
   "outputs": [],
   "source": [
    "final_model.save('C:/Users/Hp/Desktop/Traffic_Sign_Classifier/Traffic_Sign_Classifier-with-Streamlit/Traffic_sign_Dataset/Traffic_Sign_Classifier_CNN.hdf5')"
   ]
  },
  {
   "cell_type": "markdown",
   "metadata": {
    "colab_type": "text",
    "id": "DN7YN0GwvyoA"
   },
   "source": [
    "### Loading the saved model "
   ]
  },
  {
   "cell_type": "code",
   "execution_count": 33,
   "metadata": {
    "colab": {
     "base_uri": "https://localhost:8080/",
     "height": 641
    },
    "colab_type": "code",
    "id": "UdkbTnFqncvc",
    "outputId": "352a767d-5316-4bfc-fa28-c54ac97c7645"
   },
   "outputs": [
    {
     "name": "stdout",
     "output_type": "stream",
     "text": [
      "Model: \"sequential\"\n",
      "_________________________________________________________________\n",
      "Layer (type)                 Output Shape              Param #   \n",
      "=================================================================\n",
      "conv2d (Conv2D)              (None, 32, 32, 40)        400       \n",
      "_________________________________________________________________\n",
      "max_pooling2d (MaxPooling2D) (None, 16, 16, 40)        0         \n",
      "_________________________________________________________________\n",
      "dropout (Dropout)            (None, 16, 16, 40)        0         \n",
      "_________________________________________________________________\n",
      "conv2d_1 (Conv2D)            (None, 16, 16, 41)        14801     \n",
      "_________________________________________________________________\n",
      "max_pooling2d_1 (MaxPooling2 (None, 8, 8, 41)          0         \n",
      "_________________________________________________________________\n",
      "dropout_1 (Dropout)          (None, 8, 8, 41)          0         \n",
      "_________________________________________________________________\n",
      "conv2d_2 (Conv2D)            (None, 8, 8, 102)         104652    \n",
      "_________________________________________________________________\n",
      "max_pooling2d_2 (MaxPooling2 (None, 4, 4, 102)         0         \n",
      "_________________________________________________________________\n",
      "dropout_2 (Dropout)          (None, 4, 4, 102)         0         \n",
      "_________________________________________________________________\n",
      "flatten (Flatten)            (None, 1632)              0         \n",
      "_________________________________________________________________\n",
      "dense (Dense)                (None, 288)               470304    \n",
      "_________________________________________________________________\n",
      "dropout_3 (Dropout)          (None, 288)               0         \n",
      "_________________________________________________________________\n",
      "dense_1 (Dense)              (None, 43)                12427     \n",
      "=================================================================\n",
      "Total params: 602,584\n",
      "Trainable params: 602,584\n",
      "Non-trainable params: 0\n",
      "_________________________________________________________________\n"
     ]
    }
   ],
   "source": [
    "loaded_model = tf.keras.models.load_model('C:/Users/Hp/Desktop/Traffic_Sign_Classifier/Traffic_Sign_Classifier-with-Streamlit/Traffic_sign_Dataset/Traffic_Sign_Classifier_CNN.hdf5')\n",
    "\n",
    "loaded_model.summary()"
   ]
  },
  {
   "cell_type": "markdown",
   "metadata": {
    "colab_type": "text",
    "id": "T02omtWWv22P"
   },
   "source": [
    "### Making predictions with the loaded model "
   ]
  },
  {
   "cell_type": "code",
   "execution_count": 34,
   "metadata": {
    "colab": {
     "base_uri": "https://localhost:8080/",
     "height": 468
    },
    "colab_type": "code",
    "id": "eH6japacnc1B",
    "outputId": "0ced043a-6325-4c4a-f3bc-2219298a144c"
   },
   "outputs": [
    {
     "name": "stdout",
     "output_type": "stream",
     "text": [
      "Predicted sign: [[2.37549489e-06 8.28947406e-03 3.67292650e-02 2.66231745e-02\n",
      "  5.96170548e-06 9.26149964e-01 3.30996158e-06 1.96155324e-03\n",
      "  2.14008440e-04 2.44305198e-07 1.87295827e-05 1.79606108e-08\n",
      "  5.09676852e-08 1.37772294e-09 8.91999008e-09 1.03921085e-08\n",
      "  7.82148291e-10 6.94968458e-11 3.76281402e-11 1.56976532e-11\n",
      "  5.95806127e-10 8.01913380e-09 3.94921454e-14 1.03429331e-11\n",
      "  1.57983891e-12 1.15592209e-10 5.37037151e-11 2.82769003e-10\n",
      "  5.52382007e-09 1.65747627e-09 2.54259085e-08 1.26545652e-09\n",
      "  2.93931475e-08 1.33528644e-09 1.34693534e-09 1.99728167e-09\n",
      "  9.62035007e-10 1.57644123e-11 7.59091506e-07 2.07227319e-10\n",
      "  5.63561571e-07 6.03267492e-10 4.13785642e-07]]\n",
      "---------------------------------------------------------------------------\n",
      "Predicted Sign[5]\n"
     ]
    },
    {
     "data": {
      "image/png": "[encoded data removed]",
      "text/plain": [
       "<Figure size 432x288 with 1 Axes>"
      ]
     },
     "metadata": {
      "needs_background": "light"
     },
     "output_type": "display_data"
    }
   ],
   "source": [
    "plt.imshow(x_test[1832]) \n",
    "print(\"Predicted sign: \"+ str( \n",
    "        loaded_model.predict(x_test_final[1832].reshape(1, 32, 32, 1))))\n",
    "\n",
    "print('---------------------------------------------------------------------------')\n",
    "\n",
    "print(\"Predicted Sign\" + str(loaded_model.predict_classes(x_test_final[1832].reshape(1, 32, 32, 1))))"
   ]
  },
  {
   "cell_type": "markdown",
   "metadata": {
    "colab_type": "text",
    "id": "qPc0G00_v7wW"
   },
   "source": [
    "### Testing our saved model on random traffic sign images\n",
    "\n",
    "\n",
    "\n"
   ]
  },
  {
   "cell_type": "code",
   "execution_count": 36,
   "metadata": {
    "colab": {
     "base_uri": "https://localhost:8080/",
     "height": 35
    },
    "colab_type": "code",
    "id": "29o5hhOLnwCa",
    "outputId": "5a6bbd45-602c-48dc-ca2f-66f30acece8e"
   },
   "outputs": [
    {
     "name": "stdout",
     "output_type": "stream",
     "text": [
      "[35]\n"
     ]
    }
   ],
   "source": [
    "from tensorflow.keras.models import load_model\n",
    "\n",
    "import cv2\n",
    "\n",
    "import numpy as np\n",
    "\n",
    "final_model = load_model('C:/Users/Hp/Desktop/Traffic_Sign_Classifier/Traffic_Sign_Classifier-with-Streamlit/Traffic_sign_Dataset/Traffic_Sign_Classifier_CNN.hdf5')\n",
    "\n",
    "img = cv2.imread('C:/Users/Hp/Desktop/Traffic_Sign_Classifier/Traffic_Sign_Classifier-with-Streamlit/Traffic_sign_Dataset/images/img_19225_1460.jpg')\n",
    "\n",
    "img = cv2.cvtColor(img, cv2.COLOR_BGR2GRAY) \n",
    "\n",
    "img = img / 255\n",
    "\n",
    "img = cv2.resize(img,(32,32))\n",
    "\n",
    "img = np.reshape(img,[1,32,32,1])\n",
    "\n",
    "classes = final_model.predict_classes(img)\n",
    "\n",
    "print(classes)"
   ]
  },
  {
   "cell_type": "code",
   "execution_count": 0,
   "metadata": {
    "colab": {},
    "colab_type": "code",
    "id": "hBPbatbDRj4x"
   },
   "outputs": [],
   "source": []
  }
 ],
 "metadata": {
  "accelerator": "GPU",
  "colab": {
   "collapsed_sections": [],
   "name": "Traffic Sign Classification.ipynb",
   "provenance": [],
   "toc_visible": true
  },
  "kernelspec": {
   "display_name": "Python 3 (ipykernel)",
   "language": "python",
   "name": "python3"
  },
  "language_info": {
   "codemirror_mode": {
    "name": "ipython",
    "version": 3
   },
   "file_extension": ".py",
   "mimetype": "text/x-python",
   "name": "python",
   "nbconvert_exporter": "python",
   "pygments_lexer": "ipython3",
   "version": "3.9.7"
  }
 },
 "nbformat": 4,
 "nbformat_minor": 1
}
